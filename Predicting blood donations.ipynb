{
 "cells": [
  {
   "cell_type": "markdown",
   "metadata": {},
   "source": [
    "![](http://upload.wikimedia.org/wikipedia/commons/b/b9/Blutspende_Piktogramm.GIF)"
   ]
  },
  {
   "cell_type": "markdown",
   "metadata": {},
   "source": [
    "# Background challenge"
   ]
  },
  {
   "cell_type": "markdown",
   "metadata": {},
   "source": [
    "According to [Red Cross Blood](https://www.redcrossblood.org/donate-blood/how-to-donate/how-blood-donations-help/blood-needs-blood-supply.html) every 2 seconds someone in the United States needs a blood transfusion and only 1 donation can save up to 3 lives.\n",
    "\n",
    "This challenge requests to predict whether or not a donor will give blood before a certain date.\n",
    "\n",
    "Data is provided by _Yeh, I-Cheng_ via the [UCI Machine Learning repository](https://archive.ics.uci.edu/ml/datasets/Blood+Transfusion+Service+Center)"
   ]
  },
  {
   "cell_type": "markdown",
   "metadata": {},
   "source": [
    "# Solution steps\n",
    "\n",
    "* Load data\n",
    "* Data overview\n",
    "* Some data preprocessing\n",
    "* Model building\n",
    "* Prediction"
   ]
  },
  {
   "cell_type": "markdown",
   "metadata": {},
   "source": [
    "Let's begin! We will solve this challenge using Python code."
   ]
  },
  {
   "cell_type": "code",
   "execution_count": 38,
   "metadata": {},
   "outputs": [],
   "source": [
    "import pandas as pd\n",
    "\n",
    "#Importing data\n",
    "data_tr = pd.read_csv(\"C:/Users/ruben/OneDrive/Escritorio/PYTHON/MACHINE LEARNING/PROJECTS/Donating blood/Training.csv\") #training values\n",
    "\n",
    "data_test = pd.read_csv(\"C:/Users/ruben/OneDrive/Escritorio/PYTHON/MACHINE LEARNING/PROJECTS/Donating blood/Test.csv\") #test values\n",
    "\n"
   ]
  },
  {
   "cell_type": "code",
   "execution_count": 32,
   "metadata": {},
   "outputs": [
    {
     "data": {
      "text/plain": [
       "(576, 6)"
      ]
     },
     "execution_count": 32,
     "metadata": {},
     "output_type": "execute_result"
    }
   ],
   "source": [
    "#Data overview\n",
    "data_tr.shape"
   ]
  },
  {
   "cell_type": "markdown",
   "metadata": {},
   "source": [
    "Our training set has 576 samples and 6 features."
   ]
  },
  {
   "cell_type": "code",
   "execution_count": 5,
   "metadata": {},
   "outputs": [
    {
     "data": {
      "text/html": [
       "<div>\n",
       "<style scoped>\n",
       "    .dataframe tbody tr th:only-of-type {\n",
       "        vertical-align: middle;\n",
       "    }\n",
       "\n",
       "    .dataframe tbody tr th {\n",
       "        vertical-align: top;\n",
       "    }\n",
       "\n",
       "    .dataframe thead th {\n",
       "        text-align: right;\n",
       "    }\n",
       "</style>\n",
       "<table border=\"1\" class=\"dataframe\">\n",
       "  <thead>\n",
       "    <tr style=\"text-align: right;\">\n",
       "      <th></th>\n",
       "      <th>Unnamed: 0</th>\n",
       "      <th>Months since Last Donation</th>\n",
       "      <th>Number of Donations</th>\n",
       "      <th>Total Volume Donated (c.c.)</th>\n",
       "      <th>Months since First Donation</th>\n",
       "      <th>Made Donation in March 2007</th>\n",
       "    </tr>\n",
       "  </thead>\n",
       "  <tbody>\n",
       "    <tr>\n",
       "      <th>0</th>\n",
       "      <td>619</td>\n",
       "      <td>2</td>\n",
       "      <td>50</td>\n",
       "      <td>12500</td>\n",
       "      <td>98</td>\n",
       "      <td>1</td>\n",
       "    </tr>\n",
       "    <tr>\n",
       "      <th>1</th>\n",
       "      <td>664</td>\n",
       "      <td>0</td>\n",
       "      <td>13</td>\n",
       "      <td>3250</td>\n",
       "      <td>28</td>\n",
       "      <td>1</td>\n",
       "    </tr>\n",
       "    <tr>\n",
       "      <th>2</th>\n",
       "      <td>441</td>\n",
       "      <td>1</td>\n",
       "      <td>16</td>\n",
       "      <td>4000</td>\n",
       "      <td>35</td>\n",
       "      <td>1</td>\n",
       "    </tr>\n",
       "    <tr>\n",
       "      <th>3</th>\n",
       "      <td>160</td>\n",
       "      <td>2</td>\n",
       "      <td>20</td>\n",
       "      <td>5000</td>\n",
       "      <td>45</td>\n",
       "      <td>1</td>\n",
       "    </tr>\n",
       "    <tr>\n",
       "      <th>4</th>\n",
       "      <td>358</td>\n",
       "      <td>1</td>\n",
       "      <td>24</td>\n",
       "      <td>6000</td>\n",
       "      <td>77</td>\n",
       "      <td>0</td>\n",
       "    </tr>\n",
       "  </tbody>\n",
       "</table>\n",
       "</div>"
      ],
      "text/plain": [
       "   Unnamed: 0  Months since Last Donation  Number of Donations  \\\n",
       "0         619                           2                   50   \n",
       "1         664                           0                   13   \n",
       "2         441                           1                   16   \n",
       "3         160                           2                   20   \n",
       "4         358                           1                   24   \n",
       "\n",
       "   Total Volume Donated (c.c.)  Months since First Donation  \\\n",
       "0                        12500                           98   \n",
       "1                         3250                           28   \n",
       "2                         4000                           35   \n",
       "3                         5000                           45   \n",
       "4                         6000                           77   \n",
       "\n",
       "   Made Donation in March 2007  \n",
       "0                            1  \n",
       "1                            1  \n",
       "2                            1  \n",
       "3                            1  \n",
       "4                            0  "
      ]
     },
     "execution_count": 5,
     "metadata": {},
     "output_type": "execute_result"
    }
   ],
   "source": [
    "data_tr.head()"
   ]
  },
  {
   "cell_type": "markdown",
   "metadata": {},
   "source": [
    "Let's plot *Number of donations* with *Total Volume Donated*. If you think about it, there should exist a correlation between these two. "
   ]
  },
  {
   "cell_type": "code",
   "execution_count": 39,
   "metadata": {},
   "outputs": [
    {
     "data": {
      "text/plain": [
       "Text(0,0.5,'Total Volume Donated(c.c)')"
      ]
     },
     "execution_count": 39,
     "metadata": {},
     "output_type": "execute_result"
    },
    {
     "data": {
      "image/png": "[encoded data removed]",
      "text/plain": [
       "<Figure size 432x288 with 1 Axes>"
      ]
     },
     "metadata": {},
     "output_type": "display_data"
    }
   ],
   "source": [
    "import matplotlib.pyplot as plt\n",
    "X = data_tr.values #convert dataframe to numpy array\n",
    "plt.plot(X[:,2], X[:,3])\n",
    "plt.xlabel(\"Number of donations\")\n",
    "plt.ylabel(\"Total Volume Donated(c.c)\")\n"
   ]
  },
  {
   "cell_type": "code",
   "execution_count": 40,
   "metadata": {},
   "outputs": [
    {
     "data": {
      "text/plain": [
       "array([[1., 1.],\n",
       "       [1., 1.]])"
      ]
     },
     "execution_count": 40,
     "metadata": {},
     "output_type": "execute_result"
    }
   ],
   "source": [
    "import numpy as np\n",
    "np.corrcoef(X[:,2], X[:,3])"
   ]
  },
  {
   "cell_type": "markdown",
   "metadata": {},
   "source": [
    "Look! These two variables are perfectly linear correlated."
   ]
  },
  {
   "cell_type": "markdown",
   "metadata": {},
   "source": [
    "Therefore we can drop *Number of donations* feature because it doesn't provide useful information if we have *Total Volume Donated*."
   ]
  },
  {
   "cell_type": "markdown",
   "metadata": {},
   "source": [
    "The first feature is _donator id_. This feature also doesn't provide useful information, so we will remove it."
   ]
  },
  {
   "cell_type": "code",
   "execution_count": 41,
   "metadata": {},
   "outputs": [],
   "source": [
    "X = np.delete(X, 0, 1) #removing number id\n",
    "X = np.delete(X, 1, 1) #removing Number of donations\n",
    "\n",
    "#output label\n",
    "y = X[:,3]\n",
    "X = np.delete(X, 3, 1) #removing output label from training set\n",
    "\n",
    "#We will do the same for the test dataset\n",
    "test = data_test.values #convert dataframe to numpy array\n",
    "test = np.delete(test, 0 ,1) #remove number id\n",
    "test = np.delete(test, 1, 1) #remove Number of Donations\n",
    "\n"
   ]
  },
  {
   "cell_type": "code",
   "execution_count": 42,
   "metadata": {},
   "outputs": [
    {
     "name": "stdout",
     "output_type": "stream",
     "text": [
      "Training set dimension:  (576, 3)\n",
      "Test set dimension:  (200, 3)\n"
     ]
    }
   ],
   "source": [
    "print(\"Training set dimension: \",X.shape)\n",
    "print(\"Test set dimension: \", test.shape)"
   ]
  },
  {
   "cell_type": "markdown",
   "metadata": {},
   "source": [
    "Now we have 3 features."
   ]
  },
  {
   "cell_type": "markdown",
   "metadata": {},
   "source": [
    "Alright, it is time to build our prediction model. We will use **Logistic regression** and cross-validation to evaluate the performance."
   ]
  },
  {
   "cell_type": "code",
   "execution_count": 46,
   "metadata": {},
   "outputs": [
    {
     "name": "stdout",
     "output_type": "stream",
     "text": [
      "Accuracy Logistic Regression model: 0.78 (+/- 0.04)\n"
     ]
    }
   ],
   "source": [
    "#Logistic regression\n",
    "from sklearn.linear_model import LogisticRegression\n",
    "mdl = LogisticRegression() \n",
    "\n",
    "#cross validation scores\n",
    "from sklearn.model_selection import cross_val_score\n",
    "scores = cross_val_score(mdl, X, y, cv=5)\n",
    "\n",
    "#Printing mean score and 95% ci\n",
    "print(\"Accuracy Logistic Regression model: %0.2f (+/- %0.2f)\" % (scores.mean(), scores.std() *2))"
   ]
  },
  {
   "cell_type": "code",
   "execution_count": 48,
   "metadata": {},
   "outputs": [
    {
     "name": "stdout",
     "output_type": "stream",
     "text": [
      "[[0.54582724 0.45417276]\n",
      " [0.90990534 0.09009466]\n",
      " [0.70610186 0.29389814]\n",
      " [0.70594798 0.29405202]\n",
      " [0.50661194 0.49338806]\n",
      " [0.25444762 0.74555238]\n",
      " [0.67863471 0.32136529]\n",
      " [0.87941    0.12059   ]\n",
      " [0.98323148 0.01676852]\n",
      " [0.92746547 0.07253453]\n",
      " [0.84220075 0.15779925]\n",
      " [0.86379816 0.13620184]\n",
      " [0.73602049 0.26397951]\n",
      " [0.70610186 0.29389814]\n",
      " [0.71235443 0.28764557]\n",
      " [0.83939807 0.16060193]\n",
      " [0.78469317 0.21530683]\n",
      " [0.57693339 0.42306661]\n",
      " [0.93319977 0.06680023]\n",
      " [0.70509971 0.29490029]\n",
      " [0.59690266 0.40309734]\n",
      " [0.69414116 0.30585884]\n",
      " [0.64836091 0.35163909]\n",
      " [0.70610186 0.29389814]\n",
      " [0.74638258 0.25361742]\n",
      " [0.69994039 0.30005961]\n",
      " [0.66734193 0.33265807]\n",
      " [0.87941    0.12059   ]\n",
      " [0.69975839 0.30024161]\n",
      " [0.54582724 0.45417276]\n",
      " [0.68025702 0.31974298]\n",
      " [0.96908781 0.03091219]\n",
      " [0.65801493 0.34198507]\n",
      " [0.75526403 0.24473597]\n",
      " [0.80991699 0.19008301]\n",
      " [0.77226114 0.22773886]\n",
      " [0.77994559 0.22005441]\n",
      " [0.87941    0.12059   ]\n",
      " [0.66524294 0.33475706]\n",
      " [0.70610186 0.29389814]\n",
      " [0.63723493 0.36276507]\n",
      " [0.87261508 0.12738492]\n",
      " [0.94251329 0.05748671]\n",
      " [0.64421438 0.35578562]\n",
      " [0.8860826  0.1139174 ]\n",
      " [0.65801493 0.34198507]\n",
      " [0.66355605 0.33644395]\n",
      " [0.89352126 0.10647874]\n",
      " [0.87941    0.12059   ]\n",
      " [0.85022628 0.14977372]\n",
      " [0.50516026 0.49483974]\n",
      " [0.35985176 0.64014824]\n",
      " [0.8545246  0.1454754 ]\n",
      " [0.7100115  0.2899885 ]\n",
      " [0.95858082 0.04141918]\n",
      " [0.82178072 0.17821928]\n",
      " [0.78637893 0.21362107]\n",
      " [0.6208703  0.3791297 ]\n",
      " [0.70960646 0.29039354]\n",
      " [0.50610582 0.49389418]\n",
      " [0.70610186 0.29389814]\n",
      " [0.88462542 0.11537458]\n",
      " [0.74608442 0.25391558]\n",
      " [0.62483758 0.37516242]\n",
      " [0.88462542 0.11537458]\n",
      " [0.90792778 0.09207222]\n",
      " [0.89158758 0.10841242]\n",
      " [0.83815418 0.16184582]\n",
      " [0.6915364  0.3084636 ]\n",
      " [0.70610186 0.29389814]\n",
      " [0.83103762 0.16896238]\n",
      " [0.87595386 0.12404614]\n",
      " [0.99054436 0.00945564]\n",
      " [0.70610186 0.29389814]\n",
      " [0.95888016 0.04111984]\n",
      " [0.86820102 0.13179898]\n",
      " [0.88021    0.11979   ]\n",
      " [0.72913569 0.27086431]\n",
      " [0.89514249 0.10485751]\n",
      " [0.6208703  0.3791297 ]\n",
      " [0.99054436 0.00945564]\n",
      " [0.70594798 0.29405202]\n",
      " [0.66734193 0.33265807]\n",
      " [0.63723493 0.36276507]\n",
      " [0.50516026 0.49483974]\n",
      " [0.9407039  0.0592961 ]\n",
      " [0.83939807 0.16060193]\n",
      " [0.90632949 0.09367051]\n",
      " [0.83815418 0.16184582]\n",
      " [0.67320678 0.32679322]\n",
      " [0.70610186 0.29389814]\n",
      " [0.83999134 0.16000866]\n",
      " [0.8860826  0.1139174 ]\n",
      " [0.88893405 0.11106595]\n",
      " [0.79803096 0.20196904]\n",
      " [0.72145153 0.27854847]\n",
      " [0.67280707 0.32719293]\n",
      " [0.75513776 0.24486224]\n",
      " [0.94587699 0.05412301]\n",
      " [0.67863471 0.32136529]\n",
      " [0.65801493 0.34198507]\n",
      " [0.8699294  0.1300706 ]\n",
      " [0.9411245  0.0588755 ]\n",
      " [0.77289939 0.22710061]\n",
      " [0.83473925 0.16526075]\n",
      " [0.60781669 0.39218331]\n",
      " [0.80747565 0.19252435]\n",
      " [0.59506693 0.40493307]\n",
      " [0.70610186 0.29389814]\n",
      " [0.8855162  0.1144838 ]\n",
      " [0.80775268 0.19224732]\n",
      " [0.70610186 0.29389814]\n",
      " [0.96908781 0.03091219]\n",
      " [0.6055641  0.3944359 ]\n",
      " [0.70594798 0.29405202]\n",
      " [0.96092482 0.03907518]\n",
      " [0.95194452 0.04805548]\n",
      " [0.6359261  0.3640739 ]\n",
      " [0.39801345 0.60198655]\n",
      " [0.71582636 0.28417364]\n",
      " [0.8699294  0.1300706 ]\n",
      " [0.56506347 0.43493653]\n",
      " [0.84593248 0.15406752]\n",
      " [0.20566262 0.79433738]\n",
      " [0.60870412 0.39129588]\n",
      " [0.55426736 0.44573264]\n",
      " [0.73657539 0.26342461]\n",
      " [0.82123461 0.17876539]\n",
      " [0.84593248 0.15406752]\n",
      " [0.86504418 0.13495582]\n",
      " [0.66502395 0.33497605]\n",
      " [0.83939807 0.16060193]\n",
      " [0.81330062 0.18669938]\n",
      " [0.70610186 0.29389814]\n",
      " [0.75526403 0.24473597]\n",
      " [0.67863471 0.32136529]\n",
      " [0.83939807 0.16060193]\n",
      " [0.93269835 0.06730165]\n",
      " [0.41954582 0.58045418]\n",
      " [0.74202875 0.25797125]\n",
      " [0.10152888 0.89847112]\n",
      " [0.70610186 0.29389814]\n",
      " [0.66734193 0.33265807]\n",
      " [0.78637893 0.21362107]\n",
      " [0.70610186 0.29389814]\n",
      " [0.95194452 0.04805548]\n",
      " [0.95053558 0.04946442]\n",
      " [0.71312891 0.28687109]\n",
      " [0.96976395 0.03023605]\n",
      " [0.65801493 0.34198507]\n",
      " [0.9532251  0.0467749 ]\n",
      " [0.50043202 0.49956798]\n",
      " [0.73865082 0.26134918]\n",
      " [0.88279221 0.11720779]\n",
      " [0.8816129  0.1183871 ]\n",
      " [0.69496312 0.30503688]\n",
      " [0.90104773 0.09895227]\n",
      " [0.65801493 0.34198507]\n",
      " [0.35985176 0.64014824]\n",
      " [0.83939807 0.16060193]\n",
      " [0.74608442 0.25391558]\n",
      " [0.87941    0.12059   ]\n",
      " [0.64379797 0.35620203]\n",
      " [0.63002435 0.36997565]\n",
      " [0.79331432 0.20668568]\n",
      " [0.93059901 0.06940099]\n",
      " [0.66734193 0.33265807]\n",
      " [0.68025702 0.31974298]\n",
      " [0.70610186 0.29389814]\n",
      " [0.70509971 0.29490029]\n",
      " [0.95194452 0.04805548]\n",
      " [0.99241305 0.00758695]\n",
      " [0.70610186 0.29389814]\n",
      " [0.06385892 0.93614108]\n",
      " [0.83999134 0.16000866]\n",
      " [0.94420013 0.05579987]\n",
      " [0.62930153 0.37069847]\n",
      " [0.73098457 0.26901543]\n",
      " [0.90909125 0.09090875]\n",
      " [0.70610186 0.29389814]\n",
      " [0.87941    0.12059   ]\n",
      " [0.82564261 0.17435739]\n",
      " [0.56506347 0.43493653]\n",
      " [0.90104773 0.09895227]\n",
      " [0.54818915 0.45181085]\n",
      " [0.86504418 0.13495582]\n",
      " [0.88021    0.11979   ]\n",
      " [0.83939807 0.16060193]\n",
      " [0.65801493 0.34198507]\n",
      " [0.86504418 0.13495582]\n",
      " [0.28141369 0.71858631]\n",
      " [0.77206176 0.22793824]\n",
      " [0.88893405 0.11106595]\n",
      " [0.89495777 0.10504223]\n",
      " [0.86820102 0.13179898]\n",
      " [0.90104773 0.09895227]\n",
      " [0.93541495 0.06458505]\n",
      " [0.92548766 0.07451234]\n",
      " [0.95035742 0.04964258]\n",
      " [0.67362641 0.32637359]]\n"
     ]
    }
   ],
   "source": [
    "#Let's make our predictions\n",
    "mdl.fit(X, y)\n",
    "\n",
    "predictions = mdl.predict_proba(test) #predicting the probability\n",
    "\n",
    "print(predictions)"
   ]
  },
  {
   "cell_type": "markdown",
   "metadata": {},
   "source": [
    "Here, we obtained the probability of not donating blood (column 1) and probability of donating blood (column 2).\n",
    "\n",
    "As a final step, we will prepare the results to meet the submission requirements."
   ]
  },
  {
   "cell_type": "code",
   "execution_count": 58,
   "metadata": {},
   "outputs": [],
   "source": [
    "results = predictions[:,1] #we only need the second column\n",
    "results = np.round(results, 2) #round to get 3 decimals\n",
    "id_results = data_test.values[:,0] # we need patient_id"
   ]
  },
  {
   "cell_type": "code",
   "execution_count": 60,
   "metadata": {},
   "outputs": [
    {
     "data": {
      "text/plain": [
       "array([[6.59e+02, 4.50e-01],\n",
       "       [2.76e+02, 9.00e-02],\n",
       "       [2.63e+02, 2.90e-01],\n",
       "       [3.03e+02, 2.90e-01],\n",
       "       [8.30e+01, 4.90e-01],\n",
       "       [5.00e+02, 7.50e-01],\n",
       "       [5.30e+02, 3.20e-01],\n",
       "       [2.44e+02, 1.20e-01],\n",
       "       [2.49e+02, 2.00e-02],\n",
       "       [7.28e+02, 7.00e-02],\n",
       "       [1.29e+02, 1.60e-01],\n",
       "       [5.34e+02, 1.40e-01],\n",
       "       [3.17e+02, 2.60e-01],\n",
       "       [4.01e+02, 2.90e-01],\n",
       "       [6.96e+02, 2.90e-01],\n",
       "       [1.92e+02, 1.60e-01],\n",
       "       [1.76e+02, 2.20e-01],\n",
       "       [5.71e+02, 4.20e-01],\n",
       "       [1.39e+02, 7.00e-02],\n",
       "       [4.23e+02, 2.90e-01],\n",
       "       [5.63e+02, 4.00e-01],\n",
       "       [5.60e+01, 3.10e-01],\n",
       "       [5.28e+02, 3.50e-01],\n",
       "       [1.01e+02, 2.90e-01],\n",
       "       [4.67e+02, 2.50e-01],\n",
       "       [3.82e+02, 3.00e-01],\n",
       "       [4.66e+02, 3.30e-01],\n",
       "       [2.94e+02, 1.20e-01],\n",
       "       [5.12e+02, 3.00e-01],\n",
       "       [6.59e+02, 4.50e-01],\n",
       "       [3.89e+02, 3.20e-01],\n",
       "       [4.87e+02, 3.00e-02],\n",
       "       [7.01e+02, 3.40e-01],\n",
       "       [4.19e+02, 2.40e-01],\n",
       "       [5.36e+02, 1.90e-01],\n",
       "       [2.40e+02, 2.30e-01],\n",
       "       [5.08e+02, 2.20e-01],\n",
       "       [5.15e+02, 1.20e-01],\n",
       "       [2.83e+02, 3.30e-01],\n",
       "       [6.50e+02, 2.90e-01],\n",
       "       [6.50e+01, 3.60e-01],\n",
       "       [2.28e+02, 1.30e-01],\n",
       "       [7.41e+02, 6.00e-02],\n",
       "       [2.97e+02, 3.60e-01],\n",
       "       [4.64e+02, 1.10e-01],\n",
       "       [6.30e+01, 3.40e-01],\n",
       "       [2.31e+02, 3.40e-01],\n",
       "       [2.80e+01, 1.10e-01],\n",
       "       [2.48e+02, 1.20e-01],\n",
       "       [3.57e+02, 1.50e-01],\n",
       "       [3.00e+02, 4.90e-01],\n",
       "       [7.26e+02, 6.40e-01],\n",
       "       [6.80e+02, 1.50e-01],\n",
       "       [5.20e+02, 2.90e-01],\n",
       "       [2.54e+02, 4.00e-02],\n",
       "       [5.82e+02, 1.80e-01],\n",
       "       [1.43e+02, 2.10e-01],\n",
       "       [9.80e+01, 3.80e-01],\n",
       "       [1.00e+00, 2.90e-01],\n",
       "       [2.21e+02, 4.90e-01],\n",
       "       [3.52e+02, 2.90e-01],\n",
       "       [6.40e+01, 1.20e-01],\n",
       "       [1.38e+02, 2.50e-01],\n",
       "       [7.45e+02, 3.80e-01],\n",
       "       [6.40e+01, 1.20e-01],\n",
       "       [6.88e+02, 9.00e-02],\n",
       "       [6.23e+02, 1.10e-01],\n",
       "       [2.89e+02, 1.60e-01],\n",
       "       [1.74e+02, 3.10e-01],\n",
       "       [6.90e+02, 2.90e-01],\n",
       "       [1.05e+02, 1.70e-01],\n",
       "       [4.27e+02, 1.20e-01],\n",
       "       [4.80e+01, 1.00e-02],\n",
       "       [1.40e+01, 2.90e-01],\n",
       "       [6.57e+02, 4.00e-02],\n",
       "       [3.01e+02, 1.30e-01],\n",
       "       [4.55e+02, 1.20e-01],\n",
       "       [5.79e+02, 2.70e-01],\n",
       "       [7.22e+02, 1.00e-01],\n",
       "       [9.80e+01, 3.80e-01],\n",
       "       [4.91e+02, 1.00e-02],\n",
       "       [3.03e+02, 2.90e-01],\n",
       "       [4.66e+02, 3.30e-01],\n",
       "       [6.50e+01, 3.60e-01],\n",
       "       [3.00e+02, 4.90e-01],\n",
       "       [9.00e+00, 6.00e-02],\n",
       "       [6.22e+02, 1.60e-01],\n",
       "       [3.23e+02, 9.00e-02],\n",
       "       [2.89e+02, 1.60e-01],\n",
       "       [5.68e+02, 3.30e-01],\n",
       "       [2.90e+02, 2.90e-01],\n",
       "       [1.56e+02, 1.60e-01],\n",
       "       [4.64e+02, 1.10e-01],\n",
       "       [4.26e+02, 1.10e-01],\n",
       "       [3.06e+02, 2.00e-01],\n",
       "       [4.00e+00, 2.80e-01],\n",
       "       [1.20e+01, 3.30e-01],\n",
       "       [1.87e+02, 2.40e-01],\n",
       "       [4.06e+02, 5.00e-02],\n",
       "       [9.60e+01, 3.20e-01],\n",
       "       [5.09e+02, 3.40e-01],\n",
       "       [7.33e+02, 1.30e-01],\n",
       "       [5.48e+02, 6.00e-02],\n",
       "       [4.78e+02, 2.30e-01],\n",
       "       [5.01e+02, 1.70e-01],\n",
       "       [1.27e+02, 3.90e-01],\n",
       "       [1.99e+02, 1.90e-01],\n",
       "       [2.99e+02, 4.00e-01],\n",
       "       [1.62e+02, 2.90e-01],\n",
       "       [2.35e+02, 1.10e-01],\n",
       "       [2.30e+01, 1.90e-01],\n",
       "       [4.73e+02, 2.90e-01],\n",
       "       [4.87e+02, 3.00e-02],\n",
       "       [6.83e+02, 3.90e-01],\n",
       "       [3.03e+02, 2.90e-01],\n",
       "       [3.09e+02, 4.00e-02],\n",
       "       [5.69e+02, 5.00e-02],\n",
       "       [3.40e+01, 3.60e-01],\n",
       "       [6.86e+02, 6.00e-01],\n",
       "       [8.40e+01, 2.80e-01],\n",
       "       [7.33e+02, 1.30e-01],\n",
       "       [5.37e+02, 4.30e-01],\n",
       "       [1.81e+02, 1.50e-01],\n",
       "       [4.53e+02, 7.90e-01],\n",
       "       [6.70e+01, 3.90e-01],\n",
       "       [1.61e+02, 4.50e-01],\n",
       "       [3.07e+02, 2.60e-01],\n",
       "       [7.03e+02, 1.80e-01],\n",
       "       [1.81e+02, 1.50e-01],\n",
       "       [2.46e+02, 1.30e-01],\n",
       "       [3.16e+02, 3.30e-01],\n",
       "       [2.78e+02, 1.60e-01],\n",
       "       [3.46e+02, 1.90e-01],\n",
       "       [5.45e+02, 2.90e-01],\n",
       "       [4.19e+02, 2.40e-01],\n",
       "       [6.94e+02, 3.20e-01],\n",
       "       [6.22e+02, 1.60e-01],\n",
       "       [6.63e+02, 7.00e-02],\n",
       "       [2.62e+02, 5.80e-01],\n",
       "       [4.61e+02, 2.60e-01],\n",
       "       [3.73e+02, 9.00e-01],\n",
       "       [2.33e+02, 2.90e-01],\n",
       "       [4.66e+02, 3.30e-01],\n",
       "       [2.07e+02, 2.10e-01],\n",
       "       [2.63e+02, 2.90e-01],\n",
       "       [1.60e+01, 5.00e-02],\n",
       "       [5.13e+02, 5.00e-02],\n",
       "       [4.49e+02, 2.90e-01],\n",
       "       [4.29e+02, 3.00e-02],\n",
       "       [7.01e+02, 3.40e-01],\n",
       "       [6.32e+02, 5.00e-02],\n",
       "       [5.29e+02, 5.00e-01],\n",
       "       [2.45e+02, 2.60e-01],\n",
       "       [3.44e+02, 1.20e-01],\n",
       "       [3.53e+02, 1.20e-01],\n",
       "       [2.41e+02, 3.10e-01],\n",
       "       [6.33e+02, 1.00e-01],\n",
       "       [6.24e+02, 3.40e-01],\n",
       "       [7.26e+02, 6.40e-01],\n",
       "       [1.89e+02, 1.60e-01],\n",
       "       [1.38e+02, 2.50e-01],\n",
       "       [4.02e+02, 1.20e-01],\n",
       "       [5.11e+02, 3.60e-01],\n",
       "       [5.90e+02, 3.70e-01],\n",
       "       [3.34e+02, 2.10e-01],\n",
       "       [4.47e+02, 7.00e-02],\n",
       "       [1.19e+02, 3.30e-01],\n",
       "       [3.89e+02, 3.20e-01],\n",
       "       [6.44e+02, 2.90e-01],\n",
       "       [4.23e+02, 2.90e-01],\n",
       "       [1.31e+02, 5.00e-02],\n",
       "       [4.05e+02, 1.00e-02],\n",
       "       [8.20e+01, 2.90e-01],\n",
       "       [6.43e+02, 9.40e-01],\n",
       "       [1.56e+02, 1.60e-01],\n",
       "       [6.17e+02, 6.00e-02],\n",
       "       [5.74e+02, 3.70e-01],\n",
       "       [2.72e+02, 2.70e-01],\n",
       "       [6.13e+02, 9.00e-02],\n",
       "       [5.45e+02, 2.90e-01],\n",
       "       [6.85e+02, 1.20e-01],\n",
       "       [5.70e+02, 1.70e-01],\n",
       "       [5.37e+02, 4.30e-01],\n",
       "       [6.91e+02, 1.00e-01],\n",
       "       [8.50e+01, 4.50e-01],\n",
       "       [4.83e+02, 1.30e-01],\n",
       "       [4.55e+02, 1.20e-01],\n",
       "       [9.30e+01, 1.60e-01],\n",
       "       [7.44e+02, 3.40e-01],\n",
       "       [3.30e+01, 1.30e-01],\n",
       "       [3.21e+02, 7.20e-01],\n",
       "       [5.23e+02, 2.30e-01],\n",
       "       [4.26e+02, 1.10e-01],\n",
       "       [1.96e+02, 1.10e-01],\n",
       "       [3.01e+02, 1.30e-01],\n",
       "       [1.03e+02, 1.00e-01],\n",
       "       [2.24e+02, 6.00e-02],\n",
       "       [4.54e+02, 7.00e-02],\n",
       "       [5.85e+02, 5.00e-02],\n",
       "       [1.54e+02, 3.30e-01]])"
      ]
     },
     "execution_count": 60,
     "metadata": {},
     "output_type": "execute_result"
    }
   ],
   "source": [
    "submitted_results = np.column_stack((id_results, results))\n",
    "submitted_results"
   ]
  },
  {
   "cell_type": "markdown",
   "metadata": {},
   "source": [
    "Now we have to create the .csv file."
   ]
  },
  {
   "cell_type": "code",
   "execution_count": 61,
   "metadata": {},
   "outputs": [],
   "source": [
    "#creating the csv file with pandas\n",
    "df = pd.DataFrame(submitted_results)\n",
    "df.to_csv(\"C:/Users/ruben/OneDrive/Escritorio/PYTHON/MACHINE LEARNING/PROJECTS/Donating blood/results_donating_blood.csv\", index = None, header = ['', 'Made Donation in March 2007'])"
   ]
  },
  {
   "cell_type": "code",
   "execution_count": null,
   "metadata": {},
   "outputs": [],
   "source": []
  }
 ],
 "metadata": {
  "kernelspec": {
   "display_name": "Python 3",
   "language": "python",
   "name": "python3"
  },
  "language_info": {
   "codemirror_mode": {
    "name": "ipython",
    "version": 3
   },
   "file_extension": ".py",
   "mimetype": "text/x-python",
   "name": "python",
   "nbconvert_exporter": "python",
   "pygments_lexer": "ipython3",
   "version": "3.6.5"
  }
 },
 "nbformat": 4,
 "nbformat_minor": 2
}
